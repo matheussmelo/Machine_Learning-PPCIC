{
 "cells": [
  {
   "cell_type": "markdown",
   "id": "c83e731b",
   "metadata": {},
   "source": [
    "<a id=\"top\"></a>\n",
    "<div class=\"list-group\" id=\"list-tab\" role=\"tablist\">\n",
    "<h1 class=\"list-group-item list-group-item-action active\" data-toggle=\"list\" style='background:#005097; border:0' role=\"tab\" aria-controls=\"home\"><center>APRENDIZADO DE MÁQUINA (CIC1205) - Trabalho 2</center></h1>\n",
    "\n",
    "- Nome completo: MATHEUS SANTOS MELO\n",
    "- Matrícula: 2430148MCICMA\n",
    "- [Link para vídeo](https://cefetrjbr-my.sharepoint.com/:v:/g/personal/18888284710_cefet-rj_br/EVKdfxdq6epJjx2ns4rxYtIBLW-OZufNVc10ZvPnMGGFhw?e=x38xWU&nav=eyJyZWZlcnJhbEluZm8iOnsicmVmZXJyYWxBcHAiOiJTdHJlYW1XZWJBcHAiLCJyZWZlcnJhbFZpZXciOiJTaGFyZURpYWxvZy1MaW5rIiwicmVmZXJyYWxBcHBQbGF0Zm9ybSI6IldlYiIsInJlZmVycmFsTW9kZSI6InZpZXcifX0%3D)"
   ]
  },
  {
   "cell_type": "markdown",
   "id": "91f65258",
   "metadata": {},
   "source": [
    "- Para esse trabalho, utilizei a versão do Python 3.12.4."
   ]
  },
  {
   "cell_type": "markdown",
   "id": "a5c199ea",
   "metadata": {},
   "source": [
    "## 0. Importação das bibliotecas para todas as questões"
   ]
  },
  {
   "cell_type": "code",
   "execution_count": 30,
   "id": "92130626",
   "metadata": {},
   "outputs": [],
   "source": [
    "# Manipulação de Dados\n",
    "import pandas as pd\n",
    "import numpy as np\n",
    "\n",
    "# Visualização de Dados\n",
    "import matplotlib.pyplot as plt\n",
    "import plotly.subplots as sp\n",
    "import plotly.graph_objects as go\n",
    "\n",
    "# Algoritmos de Classificação e Regressão\n",
    "from sklearn.ensemble import GradientBoostingClassifier\n",
    "\n",
    "# Pré-processamento e Transformações\n",
    "from sklearn.preprocessing import OrdinalEncoder, StandardScaler\n",
    "from sklearn.decomposition import PCA\n",
    "from sklearn.pipeline import Pipeline\n",
    "\n",
    "# Avaliação de Modelos\n",
    "from sklearn.metrics import confusion_matrix, classification_report, f1_score\n",
    "\n",
    "# Utilitários\n",
    "import pickle\n",
    "import warnings\n",
    "\n",
    "# Para ignorar mensagens de aviso\n",
    "warnings.filterwarnings(action='ignore')\n",
    "\n",
    "# Parâmetro para utilizar no random_state por fins de reprodutibilidade\n",
    "seed = 123"
   ]
  },
  {
   "cell_type": "markdown",
   "id": "ad76ad9c",
   "metadata": {},
   "source": [
    "## 1. Engenharia de Features"
   ]
  },
  {
   "cell_type": "markdown",
   "id": "bb58a809",
   "metadata": {},
   "source": [
    "- Para essa questão, irei criar alguns atributos derivados que façam sentido e depois irei analisá-los para saber se tem uma relação com a variável-alvo."
   ]
  },
  {
   "cell_type": "markdown",
   "id": "d0d80530",
   "metadata": {},
   "source": [
    "#### Descrição dos dados (Fonte: [Kaggle](https://www.kaggle.com/datasets/shivam2503/diamonds)):\n",
    "\n",
    "- **price**: price in US dollars ($326--$18,823)\n",
    "\n",
    "- **carat**: weight of the diamond (0.2--5.01)\n",
    "\n",
    "- **cut**: quality of the cut (Fair, Good, Very Good, Premium, Ideal)\n",
    "\n",
    "- **color**: diamond colour, from J (worst) to D (best)\n",
    "\n",
    "- **clarity**: a measurement of how clear the diamond is (I1 (worst), SI2, SI1, VS2, VS1, VVS2, VVS1, IF (best))\n",
    "\n",
    "- **x**: length in mm (0--10.74)\n",
    "\n",
    "- **y**: width in mm (0--58.9)\n",
    "\n",
    "- **z**: depth in mm (0--31.8)\n",
    "\n",
    "- **depth**: total depth percentage = z / mean(x, y) = 2 * z / (x + y) (43--79)\n",
    "\n",
    "- **table**: width of top of diamond relative to widest point (43--95)"
   ]
  },
  {
   "cell_type": "code",
   "execution_count": 31,
   "id": "b198adb1",
   "metadata": {},
   "outputs": [
    {
     "data": {
      "text/html": [
       "<div>\n",
       "<style scoped>\n",
       "    .dataframe tbody tr th:only-of-type {\n",
       "        vertical-align: middle;\n",
       "    }\n",
       "\n",
       "    .dataframe tbody tr th {\n",
       "        vertical-align: top;\n",
       "    }\n",
       "\n",
       "    .dataframe thead th {\n",
       "        text-align: right;\n",
       "    }\n",
       "</style>\n",
       "<table border=\"1\" class=\"dataframe\">\n",
       "  <thead>\n",
       "    <tr style=\"text-align: right;\">\n",
       "      <th></th>\n",
       "      <th>carat</th>\n",
       "      <th>cut</th>\n",
       "      <th>color</th>\n",
       "      <th>clarity</th>\n",
       "      <th>depth</th>\n",
       "      <th>table</th>\n",
       "      <th>price</th>\n",
       "      <th>x</th>\n",
       "      <th>y</th>\n",
       "      <th>z</th>\n",
       "    </tr>\n",
       "  </thead>\n",
       "  <tbody>\n",
       "    <tr>\n",
       "      <th>1</th>\n",
       "      <td>0.23</td>\n",
       "      <td>Ideal</td>\n",
       "      <td>E</td>\n",
       "      <td>SI2</td>\n",
       "      <td>61.5</td>\n",
       "      <td>55.0</td>\n",
       "      <td>326</td>\n",
       "      <td>3.95</td>\n",
       "      <td>3.98</td>\n",
       "      <td>2.43</td>\n",
       "    </tr>\n",
       "    <tr>\n",
       "      <th>2</th>\n",
       "      <td>0.21</td>\n",
       "      <td>Premium</td>\n",
       "      <td>E</td>\n",
       "      <td>SI1</td>\n",
       "      <td>59.8</td>\n",
       "      <td>61.0</td>\n",
       "      <td>326</td>\n",
       "      <td>3.89</td>\n",
       "      <td>3.84</td>\n",
       "      <td>2.31</td>\n",
       "    </tr>\n",
       "    <tr>\n",
       "      <th>3</th>\n",
       "      <td>0.23</td>\n",
       "      <td>Good</td>\n",
       "      <td>E</td>\n",
       "      <td>VS1</td>\n",
       "      <td>56.9</td>\n",
       "      <td>65.0</td>\n",
       "      <td>327</td>\n",
       "      <td>4.05</td>\n",
       "      <td>4.07</td>\n",
       "      <td>2.31</td>\n",
       "    </tr>\n",
       "    <tr>\n",
       "      <th>4</th>\n",
       "      <td>0.29</td>\n",
       "      <td>Premium</td>\n",
       "      <td>I</td>\n",
       "      <td>VS2</td>\n",
       "      <td>62.4</td>\n",
       "      <td>58.0</td>\n",
       "      <td>334</td>\n",
       "      <td>4.20</td>\n",
       "      <td>4.23</td>\n",
       "      <td>2.63</td>\n",
       "    </tr>\n",
       "    <tr>\n",
       "      <th>5</th>\n",
       "      <td>0.31</td>\n",
       "      <td>Good</td>\n",
       "      <td>J</td>\n",
       "      <td>SI2</td>\n",
       "      <td>63.3</td>\n",
       "      <td>58.0</td>\n",
       "      <td>335</td>\n",
       "      <td>4.34</td>\n",
       "      <td>4.35</td>\n",
       "      <td>2.75</td>\n",
       "    </tr>\n",
       "    <tr>\n",
       "      <th>...</th>\n",
       "      <td>...</td>\n",
       "      <td>...</td>\n",
       "      <td>...</td>\n",
       "      <td>...</td>\n",
       "      <td>...</td>\n",
       "      <td>...</td>\n",
       "      <td>...</td>\n",
       "      <td>...</td>\n",
       "      <td>...</td>\n",
       "      <td>...</td>\n",
       "    </tr>\n",
       "    <tr>\n",
       "      <th>53936</th>\n",
       "      <td>0.72</td>\n",
       "      <td>Ideal</td>\n",
       "      <td>D</td>\n",
       "      <td>SI1</td>\n",
       "      <td>60.8</td>\n",
       "      <td>57.0</td>\n",
       "      <td>2757</td>\n",
       "      <td>5.75</td>\n",
       "      <td>5.76</td>\n",
       "      <td>3.50</td>\n",
       "    </tr>\n",
       "    <tr>\n",
       "      <th>53937</th>\n",
       "      <td>0.72</td>\n",
       "      <td>Good</td>\n",
       "      <td>D</td>\n",
       "      <td>SI1</td>\n",
       "      <td>63.1</td>\n",
       "      <td>55.0</td>\n",
       "      <td>2757</td>\n",
       "      <td>5.69</td>\n",
       "      <td>5.75</td>\n",
       "      <td>3.61</td>\n",
       "    </tr>\n",
       "    <tr>\n",
       "      <th>53938</th>\n",
       "      <td>0.70</td>\n",
       "      <td>Very Good</td>\n",
       "      <td>D</td>\n",
       "      <td>SI1</td>\n",
       "      <td>62.8</td>\n",
       "      <td>60.0</td>\n",
       "      <td>2757</td>\n",
       "      <td>5.66</td>\n",
       "      <td>5.68</td>\n",
       "      <td>3.56</td>\n",
       "    </tr>\n",
       "    <tr>\n",
       "      <th>53939</th>\n",
       "      <td>0.86</td>\n",
       "      <td>Premium</td>\n",
       "      <td>H</td>\n",
       "      <td>SI2</td>\n",
       "      <td>61.0</td>\n",
       "      <td>58.0</td>\n",
       "      <td>2757</td>\n",
       "      <td>6.15</td>\n",
       "      <td>6.12</td>\n",
       "      <td>3.74</td>\n",
       "    </tr>\n",
       "    <tr>\n",
       "      <th>53940</th>\n",
       "      <td>0.75</td>\n",
       "      <td>Ideal</td>\n",
       "      <td>D</td>\n",
       "      <td>SI2</td>\n",
       "      <td>62.2</td>\n",
       "      <td>55.0</td>\n",
       "      <td>2757</td>\n",
       "      <td>5.83</td>\n",
       "      <td>5.87</td>\n",
       "      <td>3.64</td>\n",
       "    </tr>\n",
       "  </tbody>\n",
       "</table>\n",
       "<p>53940 rows × 10 columns</p>\n",
       "</div>"
      ],
      "text/plain": [
       "       carat        cut color clarity  depth  table  price     x     y     z\n",
       "1       0.23      Ideal     E     SI2   61.5   55.0    326  3.95  3.98  2.43\n",
       "2       0.21    Premium     E     SI1   59.8   61.0    326  3.89  3.84  2.31\n",
       "3       0.23       Good     E     VS1   56.9   65.0    327  4.05  4.07  2.31\n",
       "4       0.29    Premium     I     VS2   62.4   58.0    334  4.20  4.23  2.63\n",
       "5       0.31       Good     J     SI2   63.3   58.0    335  4.34  4.35  2.75\n",
       "...      ...        ...   ...     ...    ...    ...    ...   ...   ...   ...\n",
       "53936   0.72      Ideal     D     SI1   60.8   57.0   2757  5.75  5.76  3.50\n",
       "53937   0.72       Good     D     SI1   63.1   55.0   2757  5.69  5.75  3.61\n",
       "53938   0.70  Very Good     D     SI1   62.8   60.0   2757  5.66  5.68  3.56\n",
       "53939   0.86    Premium     H     SI2   61.0   58.0   2757  6.15  6.12  3.74\n",
       "53940   0.75      Ideal     D     SI2   62.2   55.0   2757  5.83  5.87  3.64\n",
       "\n",
       "[53940 rows x 10 columns]"
      ]
     },
     "execution_count": 31,
     "metadata": {},
     "output_type": "execute_result"
    }
   ],
   "source": [
    "diamonds = pd.read_csv('../data/diamonds.csv', index_col=0)\n",
    "diamonds"
   ]
  },
  {
   "cell_type": "markdown",
   "id": "89f4d7a3",
   "metadata": {},
   "source": [
    "### Feature 1: Volume do diamante"
   ]
  },
  {
   "cell_type": "markdown",
   "id": "b082ead4",
   "metadata": {},
   "source": [
    "- Justificativa: O volume é uma medida física tridimensional, e pode representar melhor o \"corpo\" real do diamante, principalmente quando existem variações no formato que não são bem explicadas só pelo `carat`.\n",
    "\n",
    "- Variáveis utilizadas: `x`, `y`, `z` "
   ]
  },
  {
   "cell_type": "code",
   "execution_count": 32,
   "id": "598f05e0",
   "metadata": {},
   "outputs": [],
   "source": [
    "diamonds['volume'] = diamonds['x'] * diamonds['y'] * diamonds['z']"
   ]
  },
  {
   "cell_type": "code",
   "execution_count": 33,
   "id": "bb7e940c",
   "metadata": {},
   "outputs": [
    {
     "data": {
      "image/png": "[encoded data removed]"
     },
     "metadata": {},
     "output_type": "display_data"
    }
   ],
   "source": [
    "fig = sp.make_subplots(rows=1, cols=2, horizontal_spacing=0.1, subplot_titles=['Scatterplot', 'Heatmap'])\n",
    "\n",
    "# Primeiro subplot\n",
    "fig.add_trace(go.Scatter(x= diamonds['volume'], y=diamonds['price'], mode='markers'), row=1, col=1)\n",
    "\n",
    "# Segundo subplot\n",
    "fig.add_trace(go.Heatmap(z = diamonds[['volume', 'price']].corr(), zmin=-1, zmax=1, \n",
    "                         x = ['volume', 'price'], y = ['volume', 'price'], texttemplate=\"%{z:.3f}\", coloraxis=\"coloraxis\"), row=1, col=2)\n",
    "\n",
    "# Atualizando layout com rótulos dos eixos e exibição do gráfico\n",
    "fig.update_layout(xaxis1_title=\"volume\", yaxis1_title=\"price\", height=400, width=1250, coloraxis={'colorscale': 'Turbo', 'cmin': -1, 'cmax': 1}, \n",
    "                  title= 'Análise exploratória entre a feature criada e o preço')\n",
    "\n",
    "fig.show('png') "
   ]
  },
  {
   "cell_type": "markdown",
   "id": "d4834579",
   "metadata": {},
   "source": [
    "- Podemos observar que o processo de Feature Engineering para criação da variável de volume tem uma correlação positiva não-linear alta em relação ao preço do diamante. Ou seja, quanto maior for o volume do diamante, maior o preço, o que faz sentido seguindo a lógica que o preço aumenta conforme o valor do diamanete. \n",
    "\n",
    "- O ponto interessante é que como foi imaginado, o valor do diamante aumenta de uma maneira exponencial de acordo com o seu volume, o que pode ser visto a partir do gráfico de dispersão acima.\n",
    "\n",
    "- Sendo assim, é uma boa variável para ser considerada para o modelo preditivo."
   ]
  },
  {
   "cell_type": "markdown",
   "id": "a084832a",
   "metadata": {},
   "source": [
    "### Features 2 e 3: Quilate com transformação logarítmica e polinomial"
   ]
  },
  {
   "cell_type": "markdown",
   "id": "3b18c3ef",
   "metadata": {},
   "source": [
    "- Justificativa: A transformação logarítmica e polinomial de `carat` pode ajudar a linearizar sua relação com o preço, além de possivelmente reduzir o impacto de outliers e capturar eventuais efeitos não lineares do peso sobre o valor do diamante. Criarei as duas features pois minha intenção é testar essa abordagem de transformação tanto de forma logarítimica quanto polinomial e ver qual possui melhor relação com o target.\n",
    "\n",
    "- Variável utilizada: `carat`"
   ]
  },
  {
   "cell_type": "code",
   "execution_count": 34,
   "id": "3898f4ee",
   "metadata": {},
   "outputs": [],
   "source": [
    "import math\n",
    "\n",
    "def apply_log(X):\n",
    "    return math.log(X, 10) \n",
    "\n",
    "def apply_poly(X):\n",
    "    return X**2\n",
    "\n",
    "diamonds['log_carat'] = diamonds['carat'].apply(lambda k: apply_log(k))\n",
    "diamonds['carat²'] = diamonds['carat'].apply(lambda k: apply_poly(k))"
   ]
  },
  {
   "cell_type": "code",
   "execution_count": 35,
   "id": "f3061ea3",
   "metadata": {},
   "outputs": [
    {
     "data": {
      "image/png": "[encoded data removed]"
     },
     "metadata": {},
     "output_type": "display_data"
    }
   ],
   "source": [
    "fig = sp.make_subplots(rows=2, cols=2, horizontal_spacing=0.1, subplot_titles=['Scatterplot', 'Heatmap', 'Scatterplot', 'Heatmap'], vertical_spacing=0.25)\n",
    "\n",
    "# Primeiro subplot\n",
    "fig.add_trace(go.Scatter(x= diamonds['log_carat'], y=diamonds['price'], mode='markers'), row=1, col=1)\n",
    "\n",
    "# Segundo subplot\n",
    "fig.add_trace(go.Heatmap(z = diamonds[['log_carat', 'price']].corr('spearman'), zmin=-1, zmax=1, \n",
    "                         x = ['log_carat', 'price'], y = ['log_carat', 'price'], texttemplate=\"%{z:.3f}\", coloraxis=\"coloraxis\"), row=1, col=2)\n",
    "\n",
    "# Terceiro subplot\n",
    "fig.add_trace(go.Scatter(x= diamonds['carat²'], y=diamonds['price'], mode='markers'), row=2, col=1)\n",
    "\n",
    "# Quarto subplot\n",
    "fig.add_trace(go.Heatmap(z = diamonds[['carat²', 'price']].corr('spearman'), zmin=-1, zmax=1, \n",
    "                         x = ['carat²', 'price'], y = ['carat²', 'price'], texttemplate=\"%{z:.3f}\", coloraxis=\"coloraxis\"), row=2, col=2)\n",
    "\n",
    "# Atualizando layout com rótulos dos eixos e exibição do gráfico\n",
    "fig.update_layout(xaxis1_title=\"log_carat\", yaxis1_title=\"price\", xaxis3_title=\"carat²\", yaxis3_title=\"price\", \n",
    "                  height=800, width=1250, coloraxis={'colorscale': 'Turbo', 'cmin': -1, 'cmax': 1}, \n",
    "                  title= 'Análise exploratória entre as features criadas e o preço')\n",
    "\n",
    "fig.show('png') "
   ]
  },
  {
   "cell_type": "markdown",
   "id": "d2f5227a",
   "metadata": {},
   "source": [
    "- Acima foram feitas as transformações da variável `carat` por meio da transformação logarítmica e quadrática, gerando duas novas variáveis. Considerando esse contexto, faz sentido que essas variáveis apresentem relações não lineares (como observado nos gráficos de dispersão). Por esse motivo, foi aplicada a correlação de Spearman no heatmap, uma vez que ela é adequada para capturar relações monotônicas, que podem ser não lineares. Diferentemente da correlação de Pearson, que assume uma relação linear e exige que ambas as variáveis possuam distribuição aproximadamente normal.\n",
    "\n",
    "- A respeito das correlações, observa-se uma correlação positiva, monotônica e alta para ambas as variáveis, assim como foi observado anteriormente com a feature volume. Como ambas as variáveis são transformações diferentes da variável `carat` em escalas distintas, seus valores numéricos no gráfico de dispersão são diferentes, mas a correlação permanece praticamente a mesma, já que ambas medem essencialmente a mesma informação. \n",
    "\n",
    "- Portanto, seria interessante considerar uma ou outra na próxima etapa de modelagem preditiva, evitando a inclusão simultânea devido à alta multicolinearidade entre elas."
   ]
  },
  {
   "cell_type": "markdown",
   "id": "95e76c07",
   "metadata": {},
   "source": [
    "## 2. Classificação Ordinal Multi-classes"
   ]
  },
  {
   "cell_type": "markdown",
   "id": "98a45676",
   "metadata": {},
   "source": [
    "### Configurações experimentais (Pré-processamento)"
   ]
  },
  {
   "cell_type": "code",
   "execution_count": 36,
   "id": "f58328ae",
   "metadata": {},
   "outputs": [
    {
     "name": "stdout",
     "output_type": "stream",
     "text": [
      "Shapes:  (10012, 24) (2506, 24) (9582, 24)\n"
     ]
    }
   ],
   "source": [
    "filename = 'A652.pickle'\n",
    "\n",
    "f = open(filename, 'rb')\n",
    "\n",
    "(X_train, y_train, X_val, y_val, X_test, y_test) = pickle.load(f)\n",
    "print(\"Shapes: \", X_train.shape, X_val.shape, X_test.shape)"
   ]
  },
  {
   "cell_type": "code",
   "execution_count": 37,
   "id": "f542fd80",
   "metadata": {},
   "outputs": [],
   "source": [
    "# Função para transformar os targets númericos y_* em categórico de acordo com os ranges do enunciado\n",
    "def numerical_to_categorical(y):\n",
    "    \"\"\"    \n",
    "    Função para categorizar as faixas de valores do target númerico\n",
    "    \n",
    "    0           -> 'None'\n",
    "    (0, 5]      -> 'Weak'\n",
    "    (5, 25]     -> 'Moderate'\n",
    "    (25, 50]    -> 'Strong'\n",
    "    (50, +inf]  -> 'Extreme'\n",
    "    \"\"\"\n",
    "\n",
    "    conditions = [\n",
    "        y == 0,\n",
    "        (y > 0) & (y <= 5),\n",
    "        (y > 5) & (y <= 25),\n",
    "        (y > 25) & (y <= 50),\n",
    "        y > 50\n",
    "    ]\n",
    "\n",
    "    choices = ['None', 'Weak', 'Moderate', 'Strong', 'Extreme']\n",
    "\n",
    "    return np.select(conditions, choices, default='Unknown')"
   ]
  },
  {
   "cell_type": "code",
   "execution_count": 38,
   "id": "56af02ca",
   "metadata": {},
   "outputs": [
    {
     "name": "stdout",
     "output_type": "stream",
     "text": [
      "y_train:\n",
      " None        9258\n",
      "Weak         664\n",
      "Moderate      88\n",
      "Strong         2\n",
      "Name: count, dtype: int64\n",
      "\n",
      "y_test:\n",
      " None        8769\n",
      "Weak         757\n",
      "Moderate      50\n",
      "Strong         4\n",
      "Extreme        2\n",
      "Name: count, dtype: int64\n"
     ]
    }
   ],
   "source": [
    "# Transformação dos ranges númericos dos targets de treino, validação e teste em categorias\n",
    "y_train_cat = numerical_to_categorical(y_train.ravel())\n",
    "y_test_cat = numerical_to_categorical(y_test.ravel())\n",
    "\n",
    "print('y_train:\\n', pd.Series(y_train_cat).value_counts())\n",
    "print('\\ny_test:\\n', pd.Series(y_test_cat).value_counts())"
   ]
  },
  {
   "cell_type": "code",
   "execution_count": 39,
   "id": "b568faa0",
   "metadata": {},
   "outputs": [
    {
     "name": "stdout",
     "output_type": "stream",
     "text": [
      "\n",
      "y_test:\n",
      " None        8769\n",
      "Weak         757\n",
      "Moderate      50\n",
      "Strong         6\n",
      "Name: count, dtype: int64\n"
     ]
    }
   ],
   "source": [
    "y_test_cat = np.where(y_test_cat == 'Extreme', 'Strong', y_test_cat)\n",
    "print('\\ny_test:\\n', pd.Series(y_test_cat).value_counts())"
   ]
  },
  {
   "cell_type": "markdown",
   "id": "f94359f5",
   "metadata": {},
   "source": [
    "- Como não há a classe 'Extreme' no conjunto de treino, isso pode gerar problemas na etapa de predição multiclasse ordinal, pois existe um ponto em que é criado um target para comparar 'Target > Classe?' e isso irá gerar um target apenas constituído por zero a partir do 'Strong', pois não há nenhum valor acima dele igual a 1 no conjunto de treino, dando erro no algoritmo do GradientBoostClassifier. Logo, para evitar esse problema, substitui o 'Extreme' para a classe 'Strong'."
   ]
  },
  {
   "cell_type": "code",
   "execution_count": 40,
   "id": "85411787",
   "metadata": {},
   "outputs": [
    {
     "name": "stdout",
     "output_type": "stream",
     "text": [
      "y_train:\n",
      " 0    9258\n",
      "1     664\n",
      "2      88\n",
      "3       2\n",
      "Name: count, dtype: int64\n",
      "\n",
      "y_test:\n",
      " 0    8769\n",
      "1     757\n",
      "2      50\n",
      "3       6\n",
      "Name: count, dtype: int64\n"
     ]
    }
   ],
   "source": [
    "# Define a ordem das categorias e aplica o OrdinalEncoder para codificar as categorias do targets em um númerica ordinal\n",
    "# O OrdinalEnconder foi aplicado de uma forma que evitasse DataLeakage\n",
    "categories_order = [['None', 'Weak', 'Moderate', 'Strong', 'Extreme']]\n",
    "encoder = OrdinalEncoder(categories=categories_order)\n",
    "\n",
    "y_train_ord = pd.Series(encoder.fit_transform(y_train_cat.reshape(-1, 1)).astype(int).ravel())\n",
    "y_test_ord = pd.Series(encoder.transform(y_test_cat.reshape(-1, 1)).astype(int).ravel())\n",
    "\n",
    "print('y_train:\\n', y_train_ord.value_counts())\n",
    "print('\\ny_test:\\n', y_test_ord.value_counts())"
   ]
  },
  {
   "cell_type": "markdown",
   "id": "4efa259d",
   "metadata": {},
   "source": [
    "- Podemos observar que a classe majoritária nas duas porções é a 'None' (classe 0), o que significa que a maior parte dos dados representa momentos sem chuva. O desbalanceamento é evidente e pode prejudicar a performance dos modelos de Machine Learning.\n",
    "\n",
    "- Outro ponto a se notar é que a categoria 'Extreme' (classe 4) é tão rara que não possui registros nas porções de treino, aparecendo apenas duas vezes no conjunto de teste. Isso indica que o modelo provavelmente não terá a oportunidade de aprender sobre essa classe, sendo assim, tenderá a \"chutar\" um valor para ela."
   ]
  },
  {
   "cell_type": "markdown",
   "id": "de63126d",
   "metadata": {},
   "source": [
    "### Modelagem preditiva Baseline (Multiclassificação normal)"
   ]
  },
  {
   "cell_type": "markdown",
   "id": "247a8111",
   "metadata": {},
   "source": [
    "#### Treinamento e predição"
   ]
  },
  {
   "cell_type": "code",
   "execution_count": 41,
   "id": "7dd5f539",
   "metadata": {},
   "outputs": [],
   "source": [
    "def plot_confusion_matrix_class_report(y_test, y_pred, labels=None, target_names=None):\n",
    "    \"\"\"\n",
    "    \n",
    "    Função para obter a matriz de confusão e classification_report\n",
    "\n",
    "    \"\"\"\n",
    "    #Confusion metrics of the model built on down-sampled data\n",
    "    conf_matrix = confusion_matrix(y_true=y_test, y_pred=y_pred, labels=labels)\n",
    "\n",
    "    fig, ax = plt.subplots(figsize=(3, 3))\n",
    "    ax.matshow(conf_matrix, interpolation='nearest', cmap=plt.cm.Blues)\n",
    "    for i in range(conf_matrix.shape[0]):\n",
    "        for j in range(conf_matrix.shape[1]):\n",
    "            ax.text(x=j, y=i,s=conf_matrix[i, j], va='center', ha='center', color=\"white\" if conf_matrix[i, j] > conf_matrix.max()/2 else \"black\")\n",
    "    \n",
    "    plt.xlabel('Predictions', fontsize=18)\n",
    "    plt.ylabel('Actuals', fontsize=18)\n",
    "    plt.title('Confusion Matrix', fontsize=18)\n",
    "    plt.show()\n",
    "\n",
    "    print(classification_report(y_test, y_pred, labels=labels, target_names=target_names))"
   ]
  },
  {
   "cell_type": "code",
   "execution_count": 42,
   "id": "c6b60ccc",
   "metadata": {},
   "outputs": [
    {
     "data": {
      "image/png": "[encoded data removed]",
      "text/plain": [
       "<Figure size 300x300 with 1 Axes>"
      ]
     },
     "metadata": {},
     "output_type": "display_data"
    },
    {
     "name": "stdout",
     "output_type": "stream",
     "text": [
      "              precision    recall  f1-score   support\n",
      "\n",
      "        None       0.94      0.99      0.96      8769\n",
      "        Weak       0.67      0.30      0.41       757\n",
      "    Moderate       0.10      0.04      0.06        50\n",
      "      Strong       0.00      0.00      0.00         6\n",
      "\n",
      "    accuracy                           0.93      9582\n",
      "   macro avg       0.43      0.33      0.36      9582\n",
      "weighted avg       0.91      0.93      0.92      9582\n",
      "\n"
     ]
    }
   ],
   "source": [
    "# Treinamento do modelo\n",
    "model = GradientBoostingClassifier(random_state=seed)\n",
    "model.fit(X_train, y_train_ord)\n",
    "\n",
    "# Teste\n",
    "y_pred_test = model.predict(X_test)\n",
    "\n",
    "y_pred = encoder.inverse_transform(y_pred_test.reshape(-1, 1)).ravel()\n",
    "y_true = encoder.inverse_transform(y_test_ord.to_numpy().reshape(-1, 1)).ravel()\n",
    "\n",
    "labels = ['None', 'Weak', 'Moderate', 'Strong']\n",
    "plot_confusion_matrix_class_report(y_true, y_pred, labels=labels, target_names=labels)"
   ]
  },
  {
   "cell_type": "markdown",
   "id": "ebef2a50",
   "metadata": {},
   "source": [
    "#### Análise dos resultados"
   ]
  },
  {
   "cell_type": "markdown",
   "id": "bfe1177f",
   "metadata": {},
   "source": [
    "- A partir da modelagem baseline de classificação multiclasse, considerando o target como uma variável categórica nominal, o GradientBoostingClassifier adota uma metodologia interna que permite o treinamento com um target não binário. A partir disso, observamos que a acurácia resultante foi bastante alta. No entanto, essa métrica não pode ser considerada confiável, uma vez que há um desbalanceamento acentuado entre as classes, o que favorece o modelo a acertar frequentemente ao simplesmente prever a classe 0. Para uma avaliação mais robusta, será utilizado principalmente o f1-score por classe.\n",
    "\n",
    "- Considerando que o objetivo é prever se haverá chuva, as classes mais relevantes a serem previstas são da 1 à 4. Essas classes apresentam, teoricamente, uma ordem de importância a ser considerada, sendo cada vez mais interessante prever corretamente as classes superiores, pois representam eventos mais raros. Porém, para essa modelagem baseline isso não foi considerado. No entanto, ess\n",
    "\n",
    "    Como observado anteriormente, a raridade de classes implica em menos amostras disponíveis para o treinamento do modelo. Logo, o conjunto de treinamento possuiu apenas dois exemplos para a classe 3 e nenhum exemplo para a classe 4, o que justifica o f1-score de 0% para essas duas classes mais raras, pois o modelo não teve informações suficientes (ou nenhuma) para aprender a predizê-las, sofrendo assim com underfitting e um grande desbalanceamento. O mesmo ocorreu em menor grau com a classe 2, que contou com poucos exemplos no treino e teste, resultando em um desempenho igualmente baixo e quase nulo.\n",
    "\n",
    "    Por fim, a segunda melhor classe em desempenho foi a classe 1, a qual apresentou a segunda maior quantidade de exemplos. O modelo pôde realizar um treinamento mais adequado sobre essa classe, alcançando um F1-score de 41%."
   ]
  },
  {
   "cell_type": "markdown",
   "id": "9d179002",
   "metadata": {},
   "source": [
    "### Modelagem preditiva principal (Multiclassificação ordinal)"
   ]
  },
  {
   "cell_type": "markdown",
   "id": "691bcf0d",
   "metadata": {},
   "source": [
    "#### Treinamento e predição"
   ]
  },
  {
   "cell_type": "code",
   "execution_count": 43,
   "id": "5c10bf5e",
   "metadata": {},
   "outputs": [],
   "source": [
    "def predict_ordinal_proba(X, models):\n",
    "    \"\"\"\n",
    "    Combina as previsões dos modelos binários para estimar as probabilidades de cada classe ordinal.\n",
    "    \"\"\"\n",
    "    m = len(models) + 1  # número total de classes\n",
    "    n = X.shape[0]       # número de instâncias\n",
    "    probas = np.zeros((n, m))  # matriz de probabilidades finais\n",
    "\n",
    "    # Obtemos P(y > i) de cada classificador binário\n",
    "    prob_gt = [model.predict_proba(X)[:, 1] for model in models]\n",
    "\n",
    "    # Probabilidade da primeira classe (ex: 'None') é: 1 - P(y > 0)\n",
    "    probas[:, 0] = 1 - prob_gt[0]\n",
    "\n",
    "    # Classes intermediárias: P(y = i) = P(y > i−1) * (1 − P(y > i))\n",
    "    for i in range(1, m - 1):\n",
    "        probas[:, i] = prob_gt[i - 1] * (1 - prob_gt[i])\n",
    "\n",
    "    # Última classe é simplesmente P(y > m−2), pois é teoricamente o restante\n",
    "    probas[:, m - 1] = prob_gt[-1]\n",
    "\n",
    "    return probas"
   ]
  },
  {
   "cell_type": "code",
   "execution_count": 44,
   "id": "5e152574",
   "metadata": {},
   "outputs": [
    {
     "name": "stdout",
     "output_type": "stream",
     "text": [
      "Target index: 0\n",
      "Valores por classe:\n",
      " 0    9258\n",
      "1     664\n",
      "2      88\n",
      "3       2\n",
      "Name: count, dtype: int64\n",
      "Classe > i?:\n",
      " 0    9258\n",
      "1     754\n",
      "Name: count, dtype: int64\n",
      "--------------\n",
      "\n",
      "Target index: 1\n",
      "Valores por classe:\n",
      " 0    9258\n",
      "1     664\n",
      "2      88\n",
      "3       2\n",
      "Name: count, dtype: int64\n",
      "Classe > i?:\n",
      " 0    9922\n",
      "1      90\n",
      "Name: count, dtype: int64\n",
      "--------------\n",
      "\n",
      "Target index: 2\n",
      "Valores por classe:\n",
      " 0    9258\n",
      "1     664\n",
      "2      88\n",
      "3       2\n",
      "Name: count, dtype: int64\n",
      "Classe > i?:\n",
      " 0    10010\n",
      "1        2\n",
      "Name: count, dtype: int64\n",
      "--------------\n",
      "\n"
     ]
    },
    {
     "data": {
      "image/png": "[encoded data removed]",
      "text/plain": [
       "<Figure size 300x300 with 1 Axes>"
      ]
     },
     "metadata": {},
     "output_type": "display_data"
    },
    {
     "name": "stdout",
     "output_type": "stream",
     "text": [
      "              precision    recall  f1-score   support\n",
      "\n",
      "        None       0.95      0.99      0.97      8769\n",
      "        Weak       0.69      0.34      0.46       757\n",
      "    Moderate       0.07      0.06      0.07        50\n",
      "      Strong       0.00      0.00      0.00         6\n",
      "\n",
      "    accuracy                           0.93      9582\n",
      "   macro avg       0.43      0.35      0.37      9582\n",
      "weighted avg       0.92      0.93      0.92      9582\n",
      "\n"
     ]
    }
   ],
   "source": [
    "m = y_train_ord.nunique()\n",
    "models = []\n",
    "\n",
    "# Para cada limiar i (i = 0 até m−2), criamos um modelo que responde: \"Classe > i?\"\n",
    "for i in range(m - 1):\n",
    "    print('Target index:', i)\n",
    "    print('Valores por classe:\\n', y_train_ord.value_counts())\n",
    "    y_binary = (y_train_ord > i).astype(int)  # binariza o target: 1 se classe > i, senão 0\n",
    "\n",
    "    print('Classe > i?:\\n', y_binary.value_counts())\n",
    "    clf = GradientBoostingClassifier(random_state=seed)\n",
    "    clf.fit(X_train, y_binary)  # Treina modelo binário para esse limiar\n",
    "    models.append(clf)\n",
    "    print('--------------\\n')\n",
    "\n",
    "# Estima as probabilidades finais por classe\n",
    "probas_test = predict_ordinal_proba(X_test, models)\n",
    "\n",
    "# A classe final é aquela com maior probabilidade (argmax)\n",
    "y_pred_ord = np.argmax(probas_test, axis=1)\n",
    "\n",
    "# Decodifica os rótulos numéricos de volta para nomes de classe\n",
    "y_pred_labels = encoder.inverse_transform(y_pred_ord.reshape(-1, 1)).ravel()\n",
    "y_true_labels = encoder.inverse_transform(y_test_ord.to_numpy().reshape(-1, 1)).ravel()\n",
    "\n",
    "labels = ['None', 'Weak', 'Moderate', 'Strong']\n",
    "plot_confusion_matrix_class_report(y_true_labels, y_pred_labels, labels=labels, target_names=labels)"
   ]
  },
  {
   "cell_type": "markdown",
   "id": "d2af0018",
   "metadata": {},
   "source": [
    "#### Análise dos resultados"
   ]
  },
  {
   "cell_type": "markdown",
   "id": "3e67da6a",
   "metadata": {},
   "source": [
    "- Por meio da metodologia de classificação ordinal multiclasse abordada no artigo, foi realizada a modelagem para cada dataset associado a uma tarefa binária do tipo \"Classe > i?\", sendo atribuído o valor 1 nos casos em que a classe está acima na hierarquia ordinal, e 0 caso contrário. Esse processo foi repetido para cada uma das classes, exceto para a última (no caso, 'Strong') pois não há valores superiores a ela, então não faria sentido. A partir dessa modelagem, foi possível estimar as probabilidades para cada uma das classes, sendo escolhida como classificação final aquela com maior probabilidade entre todas, para cada exemplo no conjunto de teste.\n",
    "\n",
    "- Em relação aos resultados metrificados pelo f1-score principalmente, observa-se que, assim como na abordagem tradicional (baseline), o desbalanceamento dos dados continua sendo um problema predominante, fazendo com que a classe 'None' tenha desempenho significativamente superior, enquanto as demais apresentem métricas mais baixas, como é o caso da classe 'Strong', que teve apenas 2 exemplos no conjunto de treinamento.\n",
    "\n",
    "    Considerando o respeito à ordem entre as classes proporcionado por essa metodologia alternativa, percebe-se que, apesar do desbalanceamento favorecer classificações para a classe majoritária, houve uma melhora no f1-score da classe 'Weak', passando de 41% para 46% (um aumento de 5%), e da classe 'Moderate', de 6% para 7% (um aumento de 1%). Esses resultados indicam que a segunda abordagem é útil para capturar nuances nos dados ordinais que não foram percebidas no baseline, devido ao fato de este tratar o target como se fosse uma variável nominal."
   ]
  },
  {
   "cell_type": "markdown",
   "id": "100ef353",
   "metadata": {},
   "source": [
    "## 3. SHAP Values"
   ]
  },
  {
   "cell_type": "code",
   "execution_count": 45,
   "id": "5f47765e",
   "metadata": {},
   "outputs": [],
   "source": [
    "# Questão anulada."
   ]
  },
  {
   "cell_type": "markdown",
   "id": "96f6daa7",
   "metadata": {},
   "source": [
    "## 4. Redução de Dimensionalidade"
   ]
  },
  {
   "cell_type": "markdown",
   "id": "e6e6916d",
   "metadata": {},
   "source": [
    "- Para essa questão, irei repetir o processo de pré-processamento que foi feita na questão 2 e a função de classificação ordinal multiclasse, porém agora incluindo o conjunto de validação pois será feito o three-way holdout. Além disso, irei reaproveitar a função para categorizar o target."
   ]
  },
  {
   "cell_type": "markdown",
   "id": "5f508869",
   "metadata": {},
   "source": [
    "### Configurações experimentais (Pré-processamento)"
   ]
  },
  {
   "cell_type": "code",
   "execution_count": 46,
   "id": "ecf87714",
   "metadata": {},
   "outputs": [
    {
     "name": "stdout",
     "output_type": "stream",
     "text": [
      "y_train:\n",
      " None        9258\n",
      "Weak         664\n",
      "Moderate      88\n",
      "Strong         2\n",
      "Name: count, dtype: int64\n",
      "\n",
      "y_val:\n",
      " None        2277\n",
      "Weak         222\n",
      "Moderate       6\n",
      "Strong         1\n",
      "Name: count, dtype: int64\n",
      "\n",
      "y_test:\n",
      " None        8769\n",
      "Weak         757\n",
      "Moderate      50\n",
      "Strong         4\n",
      "Extreme        2\n",
      "Name: count, dtype: int64\n"
     ]
    }
   ],
   "source": [
    "filename = 'A652.pickle'\n",
    "\n",
    "f = open(filename, 'rb')\n",
    "\n",
    "(X_train, y_train, X_val, y_val, X_test, y_test) = pickle.load(f)\n",
    "\n",
    "# Transformação dos ranges númericos dos targets de treino, validação e teste em categorias\n",
    "y_train_cat = numerical_to_categorical(y_train.ravel())\n",
    "y_val_cat = numerical_to_categorical(y_val.ravel())\n",
    "y_test_cat = numerical_to_categorical(y_test.ravel())\n",
    "\n",
    "print('y_train:\\n', pd.Series(y_train_cat).value_counts())\n",
    "print('\\ny_val:\\n', pd.Series(y_val_cat).value_counts())\n",
    "print('\\ny_test:\\n', pd.Series(y_test_cat).value_counts())\n",
    "\n",
    "# Define a ordem das categorias e aplica o OrdinalEncoder para codificar as categorias do targets em um númerica ordinal\n",
    "# O OrdinalEnconder foi aplicado de uma forma que evitasse DataLeakage\n",
    "categories_order = [['None', 'Weak', 'Moderate', 'Strong', 'Extreme']]\n",
    "encoder = OrdinalEncoder(categories=categories_order)"
   ]
  },
  {
   "cell_type": "code",
   "execution_count": 47,
   "id": "d0a9e116",
   "metadata": {},
   "outputs": [
    {
     "name": "stdout",
     "output_type": "stream",
     "text": [
      "\n",
      "y_test:\n",
      " None        8769\n",
      "Weak         757\n",
      "Moderate      50\n",
      "Strong         6\n",
      "Name: count, dtype: int64\n"
     ]
    }
   ],
   "source": [
    "y_test_cat = np.where(y_test_cat == 'Extreme', 'Strong', y_test_cat)\n",
    "print('\\ny_test:\\n', pd.Series(y_test_cat).value_counts())"
   ]
  },
  {
   "cell_type": "markdown",
   "id": "c51774cb",
   "metadata": {},
   "source": [
    "- Nessa parte foi repetido o agrupamento do 'Extreme' para 'Strong' com o intuito de não impactar a etapa de classificação ordinal multiclasse. A porção de validação, assim como a de treino, não possui a classe 'Extreme', logo não foi necessário realizar esse procedimento para a mesma."
   ]
  },
  {
   "cell_type": "code",
   "execution_count": 48,
   "id": "dd0fc97f",
   "metadata": {},
   "outputs": [
    {
     "name": "stdout",
     "output_type": "stream",
     "text": [
      "y_train:\n",
      " 0    9258\n",
      "1     664\n",
      "2      88\n",
      "3       2\n",
      "Name: count, dtype: int64\n",
      "\n",
      "y_val:\n",
      " 0    2277\n",
      "1     222\n",
      "2       6\n",
      "3       1\n",
      "Name: count, dtype: int64\n",
      "\n",
      "y_test:\n",
      " 0    8769\n",
      "1     757\n",
      "2      50\n",
      "3       6\n",
      "Name: count, dtype: int64\n"
     ]
    }
   ],
   "source": [
    "y_train_ord = pd.Series(encoder.fit_transform(y_train_cat.reshape(-1, 1)).astype(int).ravel())\n",
    "y_val_ord = pd.Series(encoder.transform(y_val_cat.reshape(-1, 1)).astype(int).ravel())\n",
    "y_test_ord = pd.Series(encoder.transform(y_test_cat.reshape(-1, 1)).astype(int).ravel())\n",
    "\n",
    "print('y_train:\\n', y_train_ord.value_counts())\n",
    "print('\\ny_val:\\n', y_val_ord.value_counts())\n",
    "print('\\ny_test:\\n', y_test_ord.value_counts())"
   ]
  },
  {
   "cell_type": "markdown",
   "id": "6ca3277c",
   "metadata": {},
   "source": [
    "### Modelagem Preditiva Ordinal Multiclasse Baseline"
   ]
  },
  {
   "cell_type": "code",
   "execution_count": 71,
   "id": "7a64188f",
   "metadata": {},
   "outputs": [
    {
     "data": {
      "image/png": "[encoded data removed]",
      "text/plain": [
       "<Figure size 300x300 with 1 Axes>"
      ]
     },
     "metadata": {},
     "output_type": "display_data"
    },
    {
     "name": "stdout",
     "output_type": "stream",
     "text": [
      "              precision    recall  f1-score   support\n",
      "\n",
      "        None       0.95      0.99      0.97      8769\n",
      "        Weak       0.69      0.34      0.46       757\n",
      "    Moderate       0.07      0.06      0.07        50\n",
      "      Strong       0.00      0.00      0.00         6\n",
      "\n",
      "    accuracy                           0.93      9582\n",
      "   macro avg       0.43      0.35      0.37      9582\n",
      "weighted avg       0.92      0.93      0.92      9582\n",
      "\n"
     ]
    }
   ],
   "source": [
    "m = y_train_ord.nunique()\n",
    "models = []\n",
    "\n",
    "# Para cada limiar i (i = 0 até m−2), criamos um modelo que responde: \"Classe > i?\"\n",
    "for i in range(m - 1):\n",
    "    \n",
    "    y_binary = (y_train_ord > i).astype(int)  # binariza o target: 1 se classe > i, senão 0\n",
    "    clf = GradientBoostingClassifier(random_state=seed)\n",
    "    clf.fit(X_train, y_binary)  # Treina modelo binário para esse limiar\n",
    "    models.append(clf)\n",
    "\n",
    "# Estima as probabilidades finais por classe\n",
    "probas_test = predict_ordinal_proba(X_test, models)\n",
    "\n",
    "# A classe final é aquela com maior probabilidade (argmax)\n",
    "y_pred_ord = np.argmax(probas_test, axis=1)\n",
    "\n",
    "# Decodifica os rótulos numéricos de volta para nomes de classe\n",
    "y_pred_labels = encoder.inverse_transform(y_pred_ord.reshape(-1, 1)).ravel()\n",
    "y_true_labels = encoder.inverse_transform(y_test_ord.to_numpy().reshape(-1, 1)).ravel()\n",
    "\n",
    "labels = ['None', 'Weak', 'Moderate', 'Strong']\n",
    "plot_confusion_matrix_class_report(y_true_labels, y_pred_labels, labels=labels, target_names=labels)"
   ]
  },
  {
   "cell_type": "markdown",
   "id": "02e620f7",
   "metadata": {},
   "source": [
    "- Como observado na questão 2, a metodologia de classificação ordinal multiclasse não conseguiu prever a classe 'Strong', o que é compreensível considerando a quantidade extremamente baixa de exemplos disponíveis para o treinamento. Isso resultou em um f1-score muito baixo para essa classe. Além disso, 'None' se mostrou como a classe majoritária, apresentando um evidente desbalanceamento, o que também limita sua utilidade como métrica de avaliação. Dessa forma, 'Weak' e 'Moderate' foram os principais indicadores de performance, com f1-scores de 46% e 7%, respectivamente.\n",
    "\n",
    "- A partir desse resultado de baseline, será avaliado se a abordagem com redução de dimensionalidade por meio de componentes principais (PCA) pode oferecer uma alternativa mais eficaz."
   ]
  },
  {
   "cell_type": "markdown",
   "id": "41c1a29c",
   "metadata": {},
   "source": [
    "### Modelagem Preditiva Ordinal Multiclasse Principal (three-way holdout com k ótimo de componentes principais)"
   ]
  },
  {
   "cell_type": "markdown",
   "id": "e0ce01e7",
   "metadata": {},
   "source": [
    "#### Treino e validação em busca do melhor k"
   ]
  },
  {
   "cell_type": "code",
   "execution_count": 74,
   "id": "8879b94e",
   "metadata": {},
   "outputs": [],
   "source": [
    "dimensions_max_len = X_train.shape[1]\n",
    "\n",
    "# Define os pesos por classe\n",
    "class_weights = {'Weak': 1, 'Moderate': 2, 'Strong': 3}\n",
    "\n",
    "result = {\n",
    "    'k': [],\n",
    "    'weighted_f1': []\n",
    "}\n",
    "\n",
    "for k in range(1, dimensions_max_len + 1):\n",
    "\n",
    "    result['k'].append(k)\n",
    "\n",
    "    m = y_train_ord.nunique()\n",
    "    models = []\n",
    "\n",
    "    for i in range(m - 1):\n",
    "        y_binary = (y_train_ord > i).astype(int)\n",
    "\n",
    "        pipeline = Pipeline([\n",
    "            ('scaler', StandardScaler()),\n",
    "            ('pca', PCA(n_components=k, random_state=seed)),\n",
    "            ('clf', GradientBoostingClassifier(random_state=seed))\n",
    "        ])\n",
    "\n",
    "        pipeline.fit(X_train, y_binary)\n",
    "        models.append(pipeline)\n",
    "\n",
    "    probas_val = predict_ordinal_proba(X_val, models)\n",
    "    y_pred_ord = np.argmax(probas_val, axis=1)\n",
    "\n",
    "    y_pred_labels = encoder.inverse_transform(y_pred_ord.reshape(-1, 1)).ravel()\n",
    "    y_true_labels = encoder.inverse_transform(y_val_ord.to_numpy().reshape(-1, 1)).ravel()\n",
    "\n",
    "    # Calcula f1 por classe\n",
    "    report = classification_report(y_true_labels, y_pred_labels, output_dict=True, zero_division=0)\n",
    "\n",
    "    # Calcula a média ponderada manual\n",
    "    weighted_f1 = 0\n",
    "    total_peso = 0\n",
    "\n",
    "    for classe, peso in class_weights.items():\n",
    "        f1 = report.get(classe, {}).get('f1-score', 0.0)\n",
    "        weighted_f1 += f1 * peso\n",
    "        total_peso += peso\n",
    "\n",
    "    f1_final = weighted_f1 / total_peso if total_peso > 0 else 0\n",
    "    result['weighted_f1'].append(f1_final)"
   ]
  },
  {
   "cell_type": "markdown",
   "id": "9232478a",
   "metadata": {},
   "source": [
    "- Essa etapa teve como objetivo aplicar a metodologia introduzida na questão 2, porém agora o modelo foi construído para cada valor de k, sendo k a quantidade de componentes principais. Assim, o processo foi repetido 24 vezes, correspondendo ao número de colunas presentes em X. Para aplicar corretamente o PCA, utilizei o StandardScaler para padronizar os dados antes da redução de dimensionalidade.\n",
    "\n",
    "- Para avaliar o resultado de cada modelagem com k componentes principais, utilizei a métrica f1-score, como feito anteriormente. No entanto, desta vez, em vez de analisar o classification report individualmente para cada caso, optei por automatizar o processo com uma média ponderada, atribuindo pesos da classe mais rara até a menos rara, porém ignorando a classe majoritária e dando foco apenas as restantes. Isso permite identificar qual modelagem conseguiu melhor desempenho nas classes mais difíceis de prever.\n",
    "\n",
    "- Ao final, foi gerado um dicionário contendo os valores de k e os respectivos f1-scores ponderados. Essa estrutura será utilizada para identificar o melhor valor de k e, com isso, realizar a avaliação principal, comparando os resultados com o baseline, que utilizou um two-way holdout sem aplicação de PCA."
   ]
  },
  {
   "cell_type": "code",
   "execution_count": 75,
   "id": "bf013f7c",
   "metadata": {},
   "outputs": [
    {
     "data": {
      "application/vnd.plotly.v1+json": {
       "config": {
        "plotlyServerURL": "https://plot.ly"
       },
       "data": [
        {
         "line": {
          "color": "royalblue",
          "width": 3
         },
         "marker": {
          "size": 6
         },
         "mode": "lines+markers",
         "name": "Weighted F1",
         "type": "scatter",
         "x": [
          1,
          2,
          3,
          4,
          5,
          6,
          7,
          8,
          9,
          10,
          11,
          12,
          13,
          14,
          15,
          16,
          17,
          18,
          19,
          20,
          21,
          22,
          23,
          24
         ],
         "y": [
          0.00423728813559322,
          0.03858520900321543,
          0.047311827956989246,
          0.06776556776556776,
          0.06928838951310862,
          0.14743589743589744,
          0.12847682119205298,
          0.11809700667639385,
          0.12685185185185185,
          0.13496376811594205,
          0.1298053877864059,
          0.09041095890410959,
          0.0886426592797784,
          0.09041095890410959,
          0.0886426592797784,
          0.09123757904245709,
          0.16523429506854923,
          0.16656491656491657,
          0.16292107679667486,
          0.13185873804562698,
          0.13185873804562698,
          0.20491803278688522,
          0.1719826895335791,
          0.16332612352799808
         ]
        }
       ],
       "layout": {
        "height": 400,
        "template": {
         "data": {
          "bar": [
           {
            "error_x": {
             "color": "#2a3f5f"
            },
            "error_y": {
             "color": "#2a3f5f"
            },
            "marker": {
             "line": {
              "color": "white",
              "width": 0.5
             },
             "pattern": {
              "fillmode": "overlay",
              "size": 10,
              "solidity": 0.2
             }
            },
            "type": "bar"
           }
          ],
          "barpolar": [
           {
            "marker": {
             "line": {
              "color": "white",
              "width": 0.5
             },
             "pattern": {
              "fillmode": "overlay",
              "size": 10,
              "solidity": 0.2
             }
            },
            "type": "barpolar"
           }
          ],
          "carpet": [
           {
            "aaxis": {
             "endlinecolor": "#2a3f5f",
             "gridcolor": "#C8D4E3",
             "linecolor": "#C8D4E3",
             "minorgridcolor": "#C8D4E3",
             "startlinecolor": "#2a3f5f"
            },
            "baxis": {
             "endlinecolor": "#2a3f5f",
             "gridcolor": "#C8D4E3",
             "linecolor": "#C8D4E3",
             "minorgridcolor": "#C8D4E3",
             "startlinecolor": "#2a3f5f"
            },
            "type": "carpet"
           }
          ],
          "choropleth": [
           {
            "colorbar": {
             "outlinewidth": 0,
             "ticks": ""
            },
            "type": "choropleth"
           }
          ],
          "contour": [
           {
            "colorbar": {
             "outlinewidth": 0,
             "ticks": ""
            },
            "colorscale": [
             [
              0,
              "#0d0887"
             ],
             [
              0.1111111111111111,
              "#46039f"
             ],
             [
              0.2222222222222222,
              "#7201a8"
             ],
             [
              0.3333333333333333,
              "#9c179e"
             ],
             [
              0.4444444444444444,
              "#bd3786"
             ],
             [
              0.5555555555555556,
              "#d8576b"
             ],
             [
              0.6666666666666666,
              "#ed7953"
             ],
             [
              0.7777777777777778,
              "#fb9f3a"
             ],
             [
              0.8888888888888888,
              "#fdca26"
             ],
             [
              1,
              "#f0f921"
             ]
            ],
            "type": "contour"
           }
          ],
          "contourcarpet": [
           {
            "colorbar": {
             "outlinewidth": 0,
             "ticks": ""
            },
            "type": "contourcarpet"
           }
          ],
          "heatmap": [
           {
            "colorbar": {
             "outlinewidth": 0,
             "ticks": ""
            },
            "colorscale": [
             [
              0,
              "#0d0887"
             ],
             [
              0.1111111111111111,
              "#46039f"
             ],
             [
              0.2222222222222222,
              "#7201a8"
             ],
             [
              0.3333333333333333,
              "#9c179e"
             ],
             [
              0.4444444444444444,
              "#bd3786"
             ],
             [
              0.5555555555555556,
              "#d8576b"
             ],
             [
              0.6666666666666666,
              "#ed7953"
             ],
             [
              0.7777777777777778,
              "#fb9f3a"
             ],
             [
              0.8888888888888888,
              "#fdca26"
             ],
             [
              1,
              "#f0f921"
             ]
            ],
            "type": "heatmap"
           }
          ],
          "heatmapgl": [
           {
            "colorbar": {
             "outlinewidth": 0,
             "ticks": ""
            },
            "colorscale": [
             [
              0,
              "#0d0887"
             ],
             [
              0.1111111111111111,
              "#46039f"
             ],
             [
              0.2222222222222222,
              "#7201a8"
             ],
             [
              0.3333333333333333,
              "#9c179e"
             ],
             [
              0.4444444444444444,
              "#bd3786"
             ],
             [
              0.5555555555555556,
              "#d8576b"
             ],
             [
              0.6666666666666666,
              "#ed7953"
             ],
             [
              0.7777777777777778,
              "#fb9f3a"
             ],
             [
              0.8888888888888888,
              "#fdca26"
             ],
             [
              1,
              "#f0f921"
             ]
            ],
            "type": "heatmapgl"
           }
          ],
          "histogram": [
           {
            "marker": {
             "pattern": {
              "fillmode": "overlay",
              "size": 10,
              "solidity": 0.2
             }
            },
            "type": "histogram"
           }
          ],
          "histogram2d": [
           {
            "colorbar": {
             "outlinewidth": 0,
             "ticks": ""
            },
            "colorscale": [
             [
              0,
              "#0d0887"
             ],
             [
              0.1111111111111111,
              "#46039f"
             ],
             [
              0.2222222222222222,
              "#7201a8"
             ],
             [
              0.3333333333333333,
              "#9c179e"
             ],
             [
              0.4444444444444444,
              "#bd3786"
             ],
             [
              0.5555555555555556,
              "#d8576b"
             ],
             [
              0.6666666666666666,
              "#ed7953"
             ],
             [
              0.7777777777777778,
              "#fb9f3a"
             ],
             [
              0.8888888888888888,
              "#fdca26"
             ],
             [
              1,
              "#f0f921"
             ]
            ],
            "type": "histogram2d"
           }
          ],
          "histogram2dcontour": [
           {
            "colorbar": {
             "outlinewidth": 0,
             "ticks": ""
            },
            "colorscale": [
             [
              0,
              "#0d0887"
             ],
             [
              0.1111111111111111,
              "#46039f"
             ],
             [
              0.2222222222222222,
              "#7201a8"
             ],
             [
              0.3333333333333333,
              "#9c179e"
             ],
             [
              0.4444444444444444,
              "#bd3786"
             ],
             [
              0.5555555555555556,
              "#d8576b"
             ],
             [
              0.6666666666666666,
              "#ed7953"
             ],
             [
              0.7777777777777778,
              "#fb9f3a"
             ],
             [
              0.8888888888888888,
              "#fdca26"
             ],
             [
              1,
              "#f0f921"
             ]
            ],
            "type": "histogram2dcontour"
           }
          ],
          "mesh3d": [
           {
            "colorbar": {
             "outlinewidth": 0,
             "ticks": ""
            },
            "type": "mesh3d"
           }
          ],
          "parcoords": [
           {
            "line": {
             "colorbar": {
              "outlinewidth": 0,
              "ticks": ""
             }
            },
            "type": "parcoords"
           }
          ],
          "pie": [
           {
            "automargin": true,
            "type": "pie"
           }
          ],
          "scatter": [
           {
            "fillpattern": {
             "fillmode": "overlay",
             "size": 10,
             "solidity": 0.2
            },
            "type": "scatter"
           }
          ],
          "scatter3d": [
           {
            "line": {
             "colorbar": {
              "outlinewidth": 0,
              "ticks": ""
             }
            },
            "marker": {
             "colorbar": {
              "outlinewidth": 0,
              "ticks": ""
             }
            },
            "type": "scatter3d"
           }
          ],
          "scattercarpet": [
           {
            "marker": {
             "colorbar": {
              "outlinewidth": 0,
              "ticks": ""
             }
            },
            "type": "scattercarpet"
           }
          ],
          "scattergeo": [
           {
            "marker": {
             "colorbar": {
              "outlinewidth": 0,
              "ticks": ""
             }
            },
            "type": "scattergeo"
           }
          ],
          "scattergl": [
           {
            "marker": {
             "colorbar": {
              "outlinewidth": 0,
              "ticks": ""
             }
            },
            "type": "scattergl"
           }
          ],
          "scattermapbox": [
           {
            "marker": {
             "colorbar": {
              "outlinewidth": 0,
              "ticks": ""
             }
            },
            "type": "scattermapbox"
           }
          ],
          "scatterpolar": [
           {
            "marker": {
             "colorbar": {
              "outlinewidth": 0,
              "ticks": ""
             }
            },
            "type": "scatterpolar"
           }
          ],
          "scatterpolargl": [
           {
            "marker": {
             "colorbar": {
              "outlinewidth": 0,
              "ticks": ""
             }
            },
            "type": "scatterpolargl"
           }
          ],
          "scatterternary": [
           {
            "marker": {
             "colorbar": {
              "outlinewidth": 0,
              "ticks": ""
             }
            },
            "type": "scatterternary"
           }
          ],
          "surface": [
           {
            "colorbar": {
             "outlinewidth": 0,
             "ticks": ""
            },
            "colorscale": [
             [
              0,
              "#0d0887"
             ],
             [
              0.1111111111111111,
              "#46039f"
             ],
             [
              0.2222222222222222,
              "#7201a8"
             ],
             [
              0.3333333333333333,
              "#9c179e"
             ],
             [
              0.4444444444444444,
              "#bd3786"
             ],
             [
              0.5555555555555556,
              "#d8576b"
             ],
             [
              0.6666666666666666,
              "#ed7953"
             ],
             [
              0.7777777777777778,
              "#fb9f3a"
             ],
             [
              0.8888888888888888,
              "#fdca26"
             ],
             [
              1,
              "#f0f921"
             ]
            ],
            "type": "surface"
           }
          ],
          "table": [
           {
            "cells": {
             "fill": {
              "color": "#EBF0F8"
             },
             "line": {
              "color": "white"
             }
            },
            "header": {
             "fill": {
              "color": "#C8D4E3"
             },
             "line": {
              "color": "white"
             }
            },
            "type": "table"
           }
          ]
         },
         "layout": {
          "annotationdefaults": {
           "arrowcolor": "#2a3f5f",
           "arrowhead": 0,
           "arrowwidth": 1
          },
          "autotypenumbers": "strict",
          "coloraxis": {
           "colorbar": {
            "outlinewidth": 0,
            "ticks": ""
           }
          },
          "colorscale": {
           "diverging": [
            [
             0,
             "#8e0152"
            ],
            [
             0.1,
             "#c51b7d"
            ],
            [
             0.2,
             "#de77ae"
            ],
            [
             0.3,
             "#f1b6da"
            ],
            [
             0.4,
             "#fde0ef"
            ],
            [
             0.5,
             "#f7f7f7"
            ],
            [
             0.6,
             "#e6f5d0"
            ],
            [
             0.7,
             "#b8e186"
            ],
            [
             0.8,
             "#7fbc41"
            ],
            [
             0.9,
             "#4d9221"
            ],
            [
             1,
             "#276419"
            ]
           ],
           "sequential": [
            [
             0,
             "#0d0887"
            ],
            [
             0.1111111111111111,
             "#46039f"
            ],
            [
             0.2222222222222222,
             "#7201a8"
            ],
            [
             0.3333333333333333,
             "#9c179e"
            ],
            [
             0.4444444444444444,
             "#bd3786"
            ],
            [
             0.5555555555555556,
             "#d8576b"
            ],
            [
             0.6666666666666666,
             "#ed7953"
            ],
            [
             0.7777777777777778,
             "#fb9f3a"
            ],
            [
             0.8888888888888888,
             "#fdca26"
            ],
            [
             1,
             "#f0f921"
            ]
           ],
           "sequentialminus": [
            [
             0,
             "#0d0887"
            ],
            [
             0.1111111111111111,
             "#46039f"
            ],
            [
             0.2222222222222222,
             "#7201a8"
            ],
            [
             0.3333333333333333,
             "#9c179e"
            ],
            [
             0.4444444444444444,
             "#bd3786"
            ],
            [
             0.5555555555555556,
             "#d8576b"
            ],
            [
             0.6666666666666666,
             "#ed7953"
            ],
            [
             0.7777777777777778,
             "#fb9f3a"
            ],
            [
             0.8888888888888888,
             "#fdca26"
            ],
            [
             1,
             "#f0f921"
            ]
           ]
          },
          "colorway": [
           "#636efa",
           "#EF553B",
           "#00cc96",
           "#ab63fa",
           "#FFA15A",
           "#19d3f3",
           "#FF6692",
           "#B6E880",
           "#FF97FF",
           "#FECB52"
          ],
          "font": {
           "color": "#2a3f5f"
          },
          "geo": {
           "bgcolor": "white",
           "lakecolor": "white",
           "landcolor": "white",
           "showlakes": true,
           "showland": true,
           "subunitcolor": "#C8D4E3"
          },
          "hoverlabel": {
           "align": "left"
          },
          "hovermode": "closest",
          "mapbox": {
           "style": "light"
          },
          "paper_bgcolor": "white",
          "plot_bgcolor": "white",
          "polar": {
           "angularaxis": {
            "gridcolor": "#EBF0F8",
            "linecolor": "#EBF0F8",
            "ticks": ""
           },
           "bgcolor": "white",
           "radialaxis": {
            "gridcolor": "#EBF0F8",
            "linecolor": "#EBF0F8",
            "ticks": ""
           }
          },
          "scene": {
           "xaxis": {
            "backgroundcolor": "white",
            "gridcolor": "#DFE8F3",
            "gridwidth": 2,
            "linecolor": "#EBF0F8",
            "showbackground": true,
            "ticks": "",
            "zerolinecolor": "#EBF0F8"
           },
           "yaxis": {
            "backgroundcolor": "white",
            "gridcolor": "#DFE8F3",
            "gridwidth": 2,
            "linecolor": "#EBF0F8",
            "showbackground": true,
            "ticks": "",
            "zerolinecolor": "#EBF0F8"
           },
           "zaxis": {
            "backgroundcolor": "white",
            "gridcolor": "#DFE8F3",
            "gridwidth": 2,
            "linecolor": "#EBF0F8",
            "showbackground": true,
            "ticks": "",
            "zerolinecolor": "#EBF0F8"
           }
          },
          "shapedefaults": {
           "line": {
            "color": "#2a3f5f"
           }
          },
          "ternary": {
           "aaxis": {
            "gridcolor": "#DFE8F3",
            "linecolor": "#A2B1C6",
            "ticks": ""
           },
           "baxis": {
            "gridcolor": "#DFE8F3",
            "linecolor": "#A2B1C6",
            "ticks": ""
           },
           "bgcolor": "white",
           "caxis": {
            "gridcolor": "#DFE8F3",
            "linecolor": "#A2B1C6",
            "ticks": ""
           }
          },
          "title": {
           "x": 0.05
          },
          "xaxis": {
           "automargin": true,
           "gridcolor": "#EBF0F8",
           "linecolor": "#EBF0F8",
           "ticks": "",
           "title": {
            "standoff": 15
           },
           "zerolinecolor": "#EBF0F8",
           "zerolinewidth": 2
          },
          "yaxis": {
           "automargin": true,
           "gridcolor": "#EBF0F8",
           "linecolor": "#EBF0F8",
           "ticks": "",
           "title": {
            "standoff": 15
           },
           "zerolinecolor": "#EBF0F8",
           "zerolinewidth": 2
          }
         }
        },
        "title": {
         "text": "Weighted F1 vs. Número de Componentes (k)"
        },
        "width": 800,
        "xaxis": {
         "tickmode": "linear",
         "title": {
          "text": "Número de Componentes Principais (k)"
         }
        },
        "yaxis": {
         "title": {
          "text": "Weighted F1"
         }
        }
       }
      }
     },
     "metadata": {},
     "output_type": "display_data"
    }
   ],
   "source": [
    "fig = go.Figure()\n",
    "\n",
    "fig.add_trace(go.Scatter(x=result['k'], y=result['weighted_f1'], mode='lines+markers', name='Weighted F1', line=dict(color='royalblue', width=3), marker=dict(size=6)))\n",
    "\n",
    "fig.update_layout(title='Weighted F1 vs. Número de Componentes (k)', xaxis_title='Número de Componentes Principais (k)', \n",
    "                  yaxis_title='Weighted F1', xaxis=dict(tickmode='linear'), template='plotly_white', height=400, width=800)\n",
    "\n",
    "fig.show()"
   ]
  },
  {
   "cell_type": "markdown",
   "id": "d3d88290",
   "metadata": {},
   "source": [
    "- Podemos observar que o melhor k corresponde a um tamanho de 22, ou seja, a melhor modelagem na etapa de validação foi com 22 componentes principais com um f1-score ponderado de aproximadamente 20%."
   ]
  },
  {
   "cell_type": "markdown",
   "id": "2d500784",
   "metadata": {},
   "source": [
    "#### Avaliação Final"
   ]
  },
  {
   "cell_type": "code",
   "execution_count": 76,
   "id": "af21d4aa",
   "metadata": {},
   "outputs": [
    {
     "data": {
      "image/png": "[encoded data removed]",
      "text/plain": [
       "<Figure size 300x300 with 1 Axes>"
      ]
     },
     "metadata": {},
     "output_type": "display_data"
    },
    {
     "name": "stdout",
     "output_type": "stream",
     "text": [
      "              precision    recall  f1-score   support\n",
      "\n",
      "        None       0.94      0.99      0.96      8769\n",
      "        Weak       0.61      0.24      0.34       757\n",
      "    Moderate       0.05      0.04      0.05        50\n",
      "      Strong       0.00      0.00      0.00         6\n",
      "\n",
      "    accuracy                           0.92      9582\n",
      "   macro avg       0.40      0.32      0.34      9582\n",
      "weighted avg       0.90      0.92      0.91      9582\n",
      "\n"
     ]
    }
   ],
   "source": [
    "m = y_train_ord.nunique()\n",
    "models = []\n",
    "\n",
    "for i in range(m - 1):\n",
    "    y_binary = (y_train_ord > i).astype(int)\n",
    "\n",
    "    pipeline = Pipeline([\n",
    "        ('scaler', StandardScaler()),\n",
    "        ('pca', PCA(n_components=22, random_state=seed)),\n",
    "        ('clf', GradientBoostingClassifier(random_state=seed))\n",
    "    ])\n",
    "\n",
    "    pipeline.fit(X_train, y_binary)\n",
    "    models.append(pipeline)\n",
    "\n",
    "probas_test = predict_ordinal_proba(X_test, models)\n",
    "y_pred_ord = np.argmax(probas_test, axis=1)\n",
    "\n",
    "y_pred_labels = encoder.inverse_transform(y_pred_ord.reshape(-1, 1)).ravel()\n",
    "y_true_labels = encoder.inverse_transform(y_test_ord.to_numpy().reshape(-1, 1)).ravel()\n",
    "\n",
    "labels = ['None', 'Weak', 'Moderate', 'Strong']\n",
    "plot_confusion_matrix_class_report(y_true_labels, y_pred_labels, labels=labels, target_names=labels)"
   ]
  },
  {
   "cell_type": "markdown",
   "id": "a88f992e",
   "metadata": {},
   "source": [
    "#### Análise dos resultados"
   ]
  },
  {
   "cell_type": "markdown",
   "id": "be0d4e74",
   "metadata": {},
   "source": [
    "- A partir da utilização do conjunto de teste com a melhor quantidade de k componentes principais, observou-se que as classes 'Weak' e 'Moderate' apresentaram desempenhos de 34% e 5%, respectivamente. Esses resultados foram inferiores aos obtidos pelo método que não aplicou a redução de dimensionalidade. Isso indica que as variáveis em seu formato original mantêm uma relação mais eficaz com o modelo durante as fases de treinamento e predição das diferentes classes."
   ]
  },
  {
   "cell_type": "markdown",
   "id": "559aea82",
   "metadata": {},
   "source": [
    "## 5. Predição Conforme"
   ]
  }
 ],
 "metadata": {
  "kernelspec": {
   "display_name": "Python 3",
   "language": "python",
   "name": "python3"
  },
  "language_info": {
   "codemirror_mode": {
    "name": "ipython",
    "version": 3
   },
   "file_extension": ".py",
   "mimetype": "text/x-python",
   "name": "python",
   "nbconvert_exporter": "python",
   "pygments_lexer": "ipython3",
   "version": "3.12.4"
  }
 },
 "nbformat": 4,
 "nbformat_minor": 5
}
